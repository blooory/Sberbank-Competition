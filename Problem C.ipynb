{
 "cells": [
  {
   "cell_type": "markdown",
   "metadata": {
    "collapsed": true
   },
   "source": [
    "# Problem C\n",
    "Необходимо предсказать объем трат в следующем месяце в каждой из 184 категорий для каждого customer_id, которого нет в обучающей выборке customers_gender_train.csv, но есть в transactions.csv. Итоговый файл должен содержать предсказания по 184 * 3 000 = 552 000 объектам.<br>\n",
    "Объем трат пользователя в конкретной категории считается как сумма всех расходных транзакций этого пользователя в текущей категории. https://contest.sdsj.ru/<br>\n",
    "<br>\n",
    "The problem is to predict spendings of each customer (3000 unique ids) in each category (184 total) for the next month"
   ]
  },
  {
   "cell_type": "code",
   "execution_count": 1,
   "metadata": {
    "collapsed": true
   },
   "outputs": [],
   "source": [
    "import pandas as pd\n",
    "import lifetimes as lf\n",
    "import numpy as np\n",
    "from lifetimes import BetaGeoFitter\n",
    "from lifetimes.plotting import plot_frequency_recency_matrix\n",
    "from datetime import datetime\n",
    "import matplotlib.pyplot as plt\n",
    "%matplotlib inline\n",
    "\n",
    "trans = pd.read_csv('transactions.csv')\n",
    "tr = pd.read_csv('customers_gender_train.csv')\n",
    "test_ids = set(trans.customer_id.unique()) - set(tr.customer_id.unique())\n",
    "\n",
    "trans = trans[trans.amount<0]"
   ]
  },
  {
   "cell_type": "markdown",
   "metadata": {},
   "source": [
    "Need to add correct date, because model needs correct month<br>\n",
    "This is not an optimal way to do it, but it only has to be executed once per competition"
   ]
  },
  {
   "cell_type": "code",
   "execution_count": 2,
   "metadata": {
    "collapsed": false
   },
   "outputs": [
    {
     "data": {
      "text/html": [
       "<div>\n",
       "<table border=\"1\" class=\"dataframe\">\n",
       "  <thead>\n",
       "    <tr style=\"text-align: right;\">\n",
       "      <th></th>\n",
       "      <th>customer_id</th>\n",
       "      <th>mcc_code</th>\n",
       "      <th>amount</th>\n",
       "      <th>date</th>\n",
       "    </tr>\n",
       "  </thead>\n",
       "  <tbody>\n",
       "    <tr>\n",
       "      <th>0</th>\n",
       "      <td>39026145</td>\n",
       "      <td>4814</td>\n",
       "      <td>-2245.92</td>\n",
       "      <td>2014-08-01 10:23:26</td>\n",
       "    </tr>\n",
       "    <tr>\n",
       "      <th>2</th>\n",
       "      <td>39026145</td>\n",
       "      <td>4829</td>\n",
       "      <td>-56147.89</td>\n",
       "      <td>2014-08-02 10:20:56</td>\n",
       "    </tr>\n",
       "    <tr>\n",
       "      <th>3</th>\n",
       "      <td>39026145</td>\n",
       "      <td>5499</td>\n",
       "      <td>-1392.47</td>\n",
       "      <td>2014-08-02 10:39:54</td>\n",
       "    </tr>\n",
       "    <tr>\n",
       "      <th>4</th>\n",
       "      <td>39026145</td>\n",
       "      <td>5499</td>\n",
       "      <td>-920.83</td>\n",
       "      <td>2014-08-03 15:33:42</td>\n",
       "    </tr>\n",
       "    <tr>\n",
       "      <th>5</th>\n",
       "      <td>39026145</td>\n",
       "      <td>5541</td>\n",
       "      <td>-14643.37</td>\n",
       "      <td>2014-08-03 15:53:49</td>\n",
       "    </tr>\n",
       "  </tbody>\n",
       "</table>\n",
       "</div>"
      ],
      "text/plain": [
       "   customer_id  mcc_code    amount                date\n",
       "0     39026145      4814  -2245.92 2014-08-01 10:23:26\n",
       "2     39026145      4829 -56147.89 2014-08-02 10:20:56\n",
       "3     39026145      5499  -1392.47 2014-08-02 10:39:54\n",
       "4     39026145      5499   -920.83 2014-08-03 15:33:42\n",
       "5     39026145      5541 -14643.37 2014-08-03 15:53:49"
      ]
     },
     "execution_count": 2,
     "metadata": {},
     "output_type": "execute_result"
    }
   ],
   "source": [
    "dt_index = pd.date_range(start = pd.to_datetime('2015-01-01') - pd.DateOffset(153), periods=457, freq='D')\n",
    "trans['day'] = trans.tr_datetime.apply(lambda x: x.split(' ')[0]).astype(int)\n",
    "trans['exact_date'] = trans.day.replace({x: list(dt_index.astype(str))[x] for x in range(457)})\n",
    "trans['exact_date'] = trans['exact_date'] + ' ' + trans.tr_datetime.apply(lambda x: x.split(' ')[1].replace('60', '59'))\n",
    "trans['date'] = pd.to_datetime(trans['exact_date'], format='%Y-%m-%d %H:%M:%S')\n",
    "trans.drop(labels = ['tr_datetime', 'tr_type', 'term_id', 'exact_date', 'day'], axis = 1, inplace=True)\n",
    "trans.head()"
   ]
  },
  {
   "cell_type": "markdown",
   "metadata": {},
   "source": [
    "## Lifetimes approach\n",
    "Link to module: https://github.com/CamDavidsonPilon/lifetimes"
   ]
  },
  {
   "cell_type": "markdown",
   "metadata": {},
   "source": [
    "* So, the idea is that for the next period I need probability of buying smth in a category. Then multiply it by some estimate of spending volume. These are not separate tasks, yet this view of the problem greatly simplifies the solution\n",
    "* For the probability I fit BG/NBD model from Lifetimes. You can get all the assumptions about probabilities in the paper http://mktg.uni-svishtov.bg/ivm/resources/Counting_Your_Customers.pdf\n",
    "* For the amount the simplest way is to use some average of previous purchases. Here I use mean monthly volume for each customer and mcc pairs\n",
    "\n",
    "Pros of this approach ate that it is simple and intuitive, it also very naturaly deals with zeros in data<br>\n",
    "Cons - initially this method was created for LTV prediction, yet analogy with LTV in this problem is not fully correct\n"
   ]
  },
  {
   "cell_type": "markdown",
   "metadata": {},
   "source": [
    "### Data preprocessing"
   ]
  },
  {
   "cell_type": "markdown",
   "metadata": {},
   "source": [
    "Group data by months/mcc_code/customer_id.<br>\n",
    "Need to transform detailed data into monthly transactional data."
   ]
  },
  {
   "cell_type": "code",
   "execution_count": 3,
   "metadata": {
    "collapsed": false
   },
   "outputs": [
    {
     "data": {
      "text/html": [
       "<div>\n",
       "<table border=\"1\" class=\"dataframe\">\n",
       "  <thead>\n",
       "    <tr style=\"text-align: right;\">\n",
       "      <th></th>\n",
       "      <th>customer_id</th>\n",
       "      <th>mcc_code</th>\n",
       "      <th>date</th>\n",
       "      <th>amount</th>\n",
       "    </tr>\n",
       "  </thead>\n",
       "  <tbody>\n",
       "    <tr>\n",
       "      <th>0</th>\n",
       "      <td>6815</td>\n",
       "      <td>4814</td>\n",
       "      <td>2014-08-31</td>\n",
       "      <td>-8983.68</td>\n",
       "    </tr>\n",
       "    <tr>\n",
       "      <th>1</th>\n",
       "      <td>6815</td>\n",
       "      <td>4814</td>\n",
       "      <td>2014-09-30</td>\n",
       "      <td>-15721.44</td>\n",
       "    </tr>\n",
       "    <tr>\n",
       "      <th>2</th>\n",
       "      <td>6815</td>\n",
       "      <td>4814</td>\n",
       "      <td>2014-10-31</td>\n",
       "      <td>-17967.36</td>\n",
       "    </tr>\n",
       "    <tr>\n",
       "      <th>3</th>\n",
       "      <td>6815</td>\n",
       "      <td>4814</td>\n",
       "      <td>2014-11-30</td>\n",
       "      <td>-11229.60</td>\n",
       "    </tr>\n",
       "    <tr>\n",
       "      <th>4</th>\n",
       "      <td>6815</td>\n",
       "      <td>4814</td>\n",
       "      <td>2014-12-31</td>\n",
       "      <td>-24705.10</td>\n",
       "    </tr>\n",
       "  </tbody>\n",
       "</table>\n",
       "</div>"
      ],
      "text/plain": [
       "   customer_id  mcc_code       date    amount\n",
       "0         6815      4814 2014-08-31  -8983.68\n",
       "1         6815      4814 2014-09-30 -15721.44\n",
       "2         6815      4814 2014-10-31 -17967.36\n",
       "3         6815      4814 2014-11-30 -11229.60\n",
       "4         6815      4814 2014-12-31 -24705.10"
      ]
     },
     "execution_count": 3,
     "metadata": {},
     "output_type": "execute_result"
    }
   ],
   "source": [
    "monthly_data = trans.set_index('date').groupby(['customer_id', 'mcc_code']).resample('m').amount.sum().dropna().reset_index()\n",
    "monthly_data.head()"
   ]
  },
  {
   "cell_type": "markdown",
   "metadata": {},
   "source": [
    "Separate into train and validation. Validation on October 2015"
   ]
  },
  {
   "cell_type": "code",
   "execution_count": 4,
   "metadata": {
    "collapsed": false
   },
   "outputs": [],
   "source": [
    "train_monthly = monthly_data[monthly_data.date<pd.to_datetime('2015-10-01')]\n",
    "test_monthly = monthly_data[monthly_data.date>=pd.to_datetime('2015-10-01')]"
   ]
  },
  {
   "cell_type": "markdown",
   "metadata": {},
   "source": [
    "Lifetimes uses concepts of Frequency/Recency/Age of purchase history. For each customer monthly data of purchases in mcc we have:\n",
    "1. Age - number of periods since first purchase.\n",
    "2. Recency - if customer spends money in mcc more than once, then it is his Age at last purchase, otherwise 0\n",
    "3. Freqency - number of periods, when customer bought smth\n",
    "\n",
    "It looks like the following:"
   ]
  },
  {
   "cell_type": "code",
   "execution_count": 6,
   "metadata": {
    "collapsed": false
   },
   "outputs": [
    {
     "data": {
      "text/html": [
       "<div>\n",
       "<table border=\"1\" class=\"dataframe\">\n",
       "  <thead>\n",
       "    <tr style=\"text-align: right;\">\n",
       "      <th></th>\n",
       "      <th>frequency</th>\n",
       "      <th>recency</th>\n",
       "      <th>T</th>\n",
       "    </tr>\n",
       "    <tr>\n",
       "      <th>customer_id</th>\n",
       "      <th></th>\n",
       "      <th></th>\n",
       "      <th></th>\n",
       "    </tr>\n",
       "  </thead>\n",
       "  <tbody>\n",
       "    <tr>\n",
       "      <th>38084</th>\n",
       "      <td>0.0</td>\n",
       "      <td>0.0</td>\n",
       "      <td>7.0</td>\n",
       "    </tr>\n",
       "    <tr>\n",
       "      <th>42096</th>\n",
       "      <td>4.0</td>\n",
       "      <td>6.0</td>\n",
       "      <td>13.0</td>\n",
       "    </tr>\n",
       "    <tr>\n",
       "      <th>81626</th>\n",
       "      <td>3.0</td>\n",
       "      <td>12.0</td>\n",
       "      <td>12.0</td>\n",
       "    </tr>\n",
       "    <tr>\n",
       "      <th>117556</th>\n",
       "      <td>2.0</td>\n",
       "      <td>10.0</td>\n",
       "      <td>10.0</td>\n",
       "    </tr>\n",
       "    <tr>\n",
       "      <th>126935</th>\n",
       "      <td>1.0</td>\n",
       "      <td>4.0</td>\n",
       "      <td>9.0</td>\n",
       "    </tr>\n",
       "  </tbody>\n",
       "</table>\n",
       "</div>"
      ],
      "text/plain": [
       "             frequency  recency     T\n",
       "customer_id                          \n",
       "38084              0.0      0.0   7.0\n",
       "42096              4.0      6.0  13.0\n",
       "81626              3.0     12.0  12.0\n",
       "117556             2.0     10.0  10.0\n",
       "126935             1.0      4.0   9.0"
      ]
     },
     "execution_count": 6,
     "metadata": {},
     "output_type": "execute_result"
    }
   ],
   "source": [
    "temp_train = lf.utils.summary_data_from_transaction_data(train_monthly[train_monthly.mcc_code==5942], \n",
    "                                            customer_id_col = 'customer_id',\n",
    "                                            datetime_col = 'date',\n",
    "                                            observation_period_end = datetime(2015, 9, 30),\n",
    "                                            freq = 'm')\n",
    "temp_train.head()"
   ]
  },
  {
   "cell_type": "markdown",
   "metadata": {},
   "source": [
    "These are the only three features for predicting probability of payment in the next period of time(which is the same as number of purchases for 1 unit of time predicted by the model, because we only have 1 \"purchase\" per month and month is unit of time here)"
   ]
  },
  {
   "cell_type": "code",
   "execution_count": 7,
   "metadata": {
    "collapsed": false
   },
   "outputs": [
    {
     "name": "stderr",
     "output_type": "stream",
     "text": [
      "c:\\anaconda3\\lib\\site-packages\\lifetimes\\estimation.py:557: RuntimeWarning: invalid value encountered in log\n",
      "  A_4 = log(a) - log(b + freq - 1) - (r + freq) * log(rec + alpha)\n"
     ]
    },
    {
     "data": {
      "image/png": "[encoded data removed]",
      "text/plain": [
       "<matplotlib.figure.Figure at 0x1ea424297b8>"
      ]
     },
     "metadata": {},
     "output_type": "display_data"
    }
   ],
   "source": [
    "bgf = BetaGeoFitter(penalizer_coef=0.0)\n",
    "bgf.fit(temp_train['frequency'], temp_train['recency'], temp_train['T'])\n",
    "plt.figure(figsize=(6,6))\n",
    "plot_frequency_recency_matrix(bgf, cmap=plt.get_cmap('viridis'))\n",
    "plt.show()"
   ]
  },
  {
   "cell_type": "markdown",
   "metadata": {},
   "source": [
    "There is no any complex relations in the probability and frequency/recency due to structure of the data. Model works far better for data with more time. Yet, the method gives an ok estimate for this case."
   ]
  },
  {
   "cell_type": "markdown",
   "metadata": {},
   "source": [
    "### Validate model"
   ]
  },
  {
   "cell_type": "markdown",
   "metadata": {},
   "source": [
    "This part works maybe 8-14 minutes. You can skip it if you want to generate LB solution"
   ]
  },
  {
   "cell_type": "code",
   "execution_count": 8,
   "metadata": {
    "collapsed": false,
    "scrolled": true
   },
   "outputs": [
    {
     "name": "stderr",
     "output_type": "stream",
     "text": [
      "c:\\anaconda3\\lib\\site-packages\\lifetimes\\estimation.py:557: RuntimeWarning: invalid value encountered in log\n",
      "  A_4 = log(a) - log(b + freq - 1) - (r + freq) * log(rec + alpha)\n"
     ]
    },
    {
     "name": "stdout",
     "output_type": "stream",
     "text": [
      "For mcc 4814 have error 2.886130610522651\n",
      "For mcc 5311 have error 2.2417432636334635\n",
      "For mcc 5411 have error 3.9382243867174993\n",
      "For mcc 5921 have error 2.4382115784929335\n",
      "For mcc 6011 have error 3.889920231179471\n",
      "For mcc 4829 have error 4.2378718387881475\n",
      "For mcc 5331 have error 3.2010956501284316\n",
      "For mcc 5399 have error 1.2257308760032435\n",
      "For mcc 5499 have error 3.446536754647921\n",
      "For mcc 5541 have error 3.093661675142667\n",
      "For mcc 5735 have error 1.1068034404820917\n",
      "For mcc 5912 have error 3.7276529694703164\n",
      "For mcc 5732 have error 2.0399794103254134\n",
      "For mcc 4511 have error 1.4329800412480485\n",
      "For mcc 4722 have error 0.9624684500639002\n",
      "For mcc 5200 have error 2.2312364354080576\n",
      "For mcc 5211 have error 2.418810142469986\n",
      "For mcc 5641 have error 2.053923232624509\n",
      "For mcc 5661 have error 2.7629262660094276\n",
      "For mcc 5691 have error 2.89535211150668\n",
      "For mcc 5719 have error 1.0696087559322904\n",
      "For mcc 5722 have error 2.016471526643619\n",
      "For mcc 5734 have error 0.7740001102414786\n",
      "For mcc 5814 have error 2.776619560923536\n",
      "For mcc 5941 have error 2.1081378729692046\n",
      "For mcc 5945 have error 1.915328131507427\n",
      "For mcc 5947 have error 1.024525005926936\n",
      "For mcc 5977 have error 2.603363581388689\n",
      "For mcc 5999 have error 3.215394321761135\n",
      "For mcc 6010 have error 2.4015875332855803\n",
      "For mcc 7230 have error 1.1280613878864083\n",
      "For mcc 8021 have error 0.9185411409082209\n",
      "For mcc 8099 have error 1.6972758393270422\n",
      "For mcc 8999 have error 1.966070867360394\n",
      "For mcc 4812 have error 1.9665077033998235\n",
      "For mcc 5651 have error 2.253081248843385\n",
      "For mcc 4112 have error 1.567662507348008\n",
      "For mcc 4900 have error 1.7860113103922364\n",
      "For mcc 5462 have error 0.5572986604985851\n",
      "For mcc 5533 have error 2.335233120669344\n",
      "For mcc 5621 have error 1.7322742217415228\n",
      "For mcc 5631 have error 1.097751030431591\n",
      "For mcc 5699 have error 1.9419237533652915\n",
      "For mcc 5812 have error 2.9795855417146324\n",
      "For mcc 5942 have error 1.5074879261399694\n",
      "For mcc 5943 have error 1.286856932308395\n",
      "For mcc 5946 have error 0.3909554320322432\n",
      "For mcc 5949 have error 0.687249234752678\n",
      "For mcc 7996 have error 0.3309836386394377\n",
      "For mcc 5137 have error 0.24311685397705068\n",
      "For mcc 5251 have error 1.1430767617385844\n",
      "For mcc 5441 have error 0.619609963628215\n",
      "For mcc 5681 have error 0.7175993228732807\n",
      "For mcc 5712 have error 1.806760448218945\n",
      "For mcc 5714 have error 0.7959779523324181\n",
      "For mcc 5944 have error 1.4689038657685318\n",
      "For mcc 6051 have error 0.9225086915686523\n",
      "For mcc 7299 have error 0.7304763260100464\n",
      "For mcc 7311 have error 1.0295378103058914\n",
      "For mcc 8641 have error 0.7758031047043006\n",
      "For mcc 5451 have error 0.4168883414011455\n",
      "For mcc 5983 have error 1.896662916380943\n",
      "For mcc 5261 have error 1.7556172461734516\n",
      "For mcc 4215 have error 0.5072493415891067\n",
      "For mcc 5964 have error 1.473727204313162\n",
      "For mcc 7832 have error 1.603778339257664\n",
      "For mcc 3000 have error 1.0119401729448898\n",
      "For mcc 4121 have error 0.7923272838431701\n",
      "For mcc 5045 have error 0.6529398673181052\n",
      "For mcc 5309 have error 0.5939995343052193\n",
      "For mcc 5813 have error 1.3171388876915588\n",
      "For mcc 6012 have error 1.3583161486867785\n",
      "For mcc 7011 have error 1.1256330890037338\n",
      "For mcc 8071 have error 0.4166992020351212\n",
      "For mcc 7399 have error 1.092876030454647\n",
      "For mcc 7994 have error 0.9084582000356158\n",
      "For mcc 5511 have error 0.9989279181750882\n",
      "For mcc 5611 have error 0.9710460990151787\n",
      "For mcc 5655 have error 1.2154905725646787\n",
      "For mcc 5992 have error 1.4673966649246524\n",
      "For mcc 7538 have error 1.0584034483798928\n",
      "For mcc 5811 have error 0.5132797386681531\n",
      "For mcc 4816 have error 1.2664253043697564\n",
      "For mcc 5300 have error 0.8172270440034468\n",
      "For mcc 5310 have error 0.3164113274902141\n",
      "For mcc 5422 have error 0.5767906177827571\n",
      "For mcc 5948 have error 0.8174654202516782\n",
      "For mcc 6300 have error 0.7819994912856858\n",
      "For mcc 5995 have error 1.5561571532762697\n",
      "For mcc 7278 have error 0.19010488332988298\n",
      "For mcc 6536 have error 0.608278400359753\n",
      "For mcc 4111 have error 0.9094519042789703\n",
      "For mcc 5231 have error 0.4179629040867163\n",
      "For mcc 5931 have error 0.21994358189838828\n",
      "For mcc 7512 have error 0.23141654851554508\n",
      "For mcc 7922 have error 0.9868645308431825\n",
      "For mcc 7991 have error 0.4041842121299642\n",
      "For mcc 7999 have error 0.86170001317991\n",
      "For mcc 8043 have error 0.9585665311769749\n",
      "For mcc 9311 have error 0.29903501703678576\n",
      "For mcc 9399 have error 0.8101119870224098\n",
      "For mcc 5532 have error 0.8574272782311789\n",
      "For mcc 5950 have error 0.40749973612065604\n",
      "For mcc 7395 have error 0.18718152428896576\n",
      "For mcc 4214 have error 0.3727183248506644\n",
      "For mcc 5122 have error 0.38410293957958236\n",
      "For mcc 7221 have error 0.3038296746536741\n",
      "For mcc 7542 have error 0.7335497314919036\n",
      "For mcc 5542 have error 0.48468098137958454\n",
      "For mcc 7933 have error 0.2744169020825437\n",
      "For mcc 5993 have error 0.4320695281311912\n",
      "For mcc 7995 have error 0.7876869575570804\n",
      "For mcc 7210 have error 0.2564756714305208\n",
      "For mcc 7372 have error 0.35420547964004867\n",
      "For mcc 7523 have error 0.6107477614198863\n",
      "For mcc 8062 have error 0.39991562717752904\n",
      "For mcc 7298 have error 0.7644209468827338\n",
      "For mcc 4899 have error 0.6484753191492096\n",
      "For mcc 5713 have error 0.33888346516293777\n",
      "For mcc 5940 have error 0.14069741189413615\n",
      "For mcc 7997 have error 0.9875661503515998\n",
      "For mcc 5968 have error 0.3243392008344275\n",
      "For mcc 5976 have error 0.33726527647192966\n",
      "For mcc 4784 have error 0.347352436506578\n",
      "For mcc 8299 have error 0.46412730685445097\n",
      "For mcc 5192 have error 0.33259816444499213\n",
      "For mcc 8011 have error 0.6385516893651051\n",
      "For mcc 4789 have error 0.6674956358905766\n",
      "For mcc 5697 have error 0.1586687398673861\n",
      "For mcc 5970 have error 0.2961411229415566\n",
      "For mcc 7375 have error 0.2398333770368288\n",
      "For mcc 8398 have error 0.2580883655620487\n",
      "For mcc 9402 have error 0.25455538886531215\n",
      "For mcc 5099 have error 0.38997692410549295\n",
      "For mcc 5199 have error 0.22818162740852835\n",
      "For mcc 6513 have error 0.2079670770046297\n",
      "For mcc 5967 have error 0.2722896153581976\n",
      "For mcc 6211 have error 0.48228608458318695\n",
      "For mcc 5013 have error 0.4166249799222836\n",
      "For mcc 7993 have error 0.38171269502903593\n",
      "For mcc 7699 have error 0.3237215018741029\n",
      "For mcc 5193 have error 0.3698528158573882\n",
      "For mcc 742 have error 0.3714760148630911\n",
      "For mcc 7531 have error 0.12361866739760215\n",
      "For mcc 9222 have error 0.4721735671554488\n",
      "For mcc 7216 have error 0.3609974672029855\n",
      "For mcc 5816 have error 0.9125319748017652\n",
      "For mcc 5169 have error 0.24961529994369192\n",
      "For mcc 5111 have error 0.26677046951519057\n",
      "For mcc 5965 have error 0.11514829534160326\n",
      "For mcc 5994 have error 0.3277361024566166\n",
      "For mcc 5074 have error 0.31093720106002093\n",
      "For mcc 5085 have error 0.17084785204197572\n",
      "For mcc 3501 have error 0.37854988785273064\n",
      "For mcc 7629 have error 0.12763807783641784\n",
      "For mcc 5599 have error 0.1526636868387211\n",
      "For mcc 5044 have error 0.2132144710386111\n",
      "For mcc 7829 have error 0.10461095757250145\n",
      "For mcc 7841 have error 0.29944222994156583\n",
      "For mcc 5065 have error 0.33999171000021355\n",
      "For mcc 5094 have error 0.1903033790341207\n",
      "For mcc 5172 have error 0.19843418557971693\n",
      "For mcc 4131 have error 0.359351297809433\n",
      "For mcc 5039 have error 0.40747364220436794\n",
      "For mcc 8220 have error 0.27047446097905603\n",
      "For mcc 1799 have error 0.1702067802148771\n",
      "For mcc 5131 have error 0.2333897638002848\n",
      "For mcc 1731 have error 0.2269255717972592\n",
      "For mcc 5072 have error 0.23643106904094355\n",
      "For mcc 5047 have error 0.16780473939829826\n",
      "For mcc 3351 have error 0.21916799052520608\n",
      "For mcc 8244 have error 0.10459787712749496\n",
      "For mcc 5969 have error 0.16876264311380118\n",
      "For mcc 4411 have error 0.10953001346125284\n",
      "For mcc 7338 have error 0.13736775706671459\n",
      "For mcc 5571 have error 0.2299878553853963\n",
      "For mcc 2741 have error 0.16700995869898158\n",
      "For mcc 7273 have error 0.31462213877207446\n",
      "For mcc 5971 have error 0.07710243044304398\n",
      "For mcc 1711 have error 0.22123363816420508\n",
      "For mcc 7932 have error 0.10608743878540389\n",
      "For mcc 5733 have error 0.2578372172372579\n",
      "For mcc 9211 have error 0.19174756529178538\n",
      "For mcc 8699 have error 0.2175174098280694\n",
      "Mean error  1.30617392223\n"
     ]
    }
   ],
   "source": [
    "df=pd.DataFrame()\n",
    "#Each mcc_code has its own model\n",
    "for mcc in monthly_data.mcc_code.unique():\n",
    "    temp_train = lf.utils.summary_data_from_transaction_data(train_monthly[train_monthly.mcc_code==mcc], \n",
    "                                                customer_id_col = 'customer_id',\n",
    "                                                datetime_col = 'date',\n",
    "                                                observation_period_end = datetime(2015, 9, 30),\n",
    "                                                freq = 'm')\n",
    "    # Real values on validation\n",
    "    real_test = test_monthly[test_monthly.mcc_code==mcc]\n",
    "    \n",
    "    bgf = BetaGeoFitter(penalizer_coef=0.0)\n",
    "    bgf.fit(temp_train['frequency'], temp_train['recency'], temp_train['T'])\n",
    "    \n",
    "    # Difficult things should be done in one line\n",
    "    # Here for each client on train I get probabilities for the next period, mean monthly volume and real volumes\n",
    "    result = (real_test.merge(bgf.predict(1, temp_train['frequency'], temp_train['recency'], temp_train['T']).to_frame(), \n",
    "                                left_on='customer_id', \n",
    "                                right_index=True, how='outer')\n",
    "                        .merge(train_monthly[train_monthly.mcc_code==mcc].sort_values('date').groupby('customer_id').amount.mean().to_frame(),\n",
    "                               left_on='customer_id',\n",
    "                               right_index=True,\n",
    "                               how='outer')).rename(columns = {0:'prob'})\n",
    "    \n",
    "    result['TR'] = result['customer_id'].map(temp_train['T'] - temp_train['recency']).fillna(0)\n",
    "    result['age'] = result['customer_id'].map(temp_train['T']).fillna(0)\n",
    "\n",
    "    # \"Tuning coefficient\" for probability as model predicts large probabilities for new clients\n",
    "    # Ideally coefficients should be different for every mcc. This was tuned on category 4829\n",
    "    result['mult'] = 1\n",
    "    result.loc[(result['age']-result['TR'])==0, 'mult'] = 0.6\n",
    "    result.loc[(result['age']-result['TR'])==1, 'mult'] = 0.76666\n",
    "    \n",
    "    # Probability goes from inside of the logarithm as the optimization task is rmsle\n",
    "    result['log_prediction'] = (result['prob']*np.log(np.abs(result['amount_y'])+1)*result['mult']).fillna(0)\n",
    "    result['log_real'] = np.log(np.abs(result['amount_x'])+1)\n",
    "    \n",
    "    # Add zeros to the model and add result for mcc to overall results on validation\n",
    "    result = result.set_index('customer_id').loc[trans.customer_id.unique()][['log_prediction', 'log_real', 'prob', 'amount_y']].reset_index().fillna(0)\n",
    "    result['mcc_code'] = mcc\n",
    "    df = df.append(result, ignore_index=True)\n",
    "    \n",
    "    temp_error = np.sqrt(np.sum(np.power(result['log_prediction']-result['log_real'], 2)/result.shape[0]))\n",
    "    print('For mcc {0} have error {1}'.format(mcc, temp_error))\n",
    "print('Mean error ', np.sqrt(np.sum(np.power(df['log_prediction'] - df['log_real'],2))/df.shape[0]))"
   ]
  },
  {
   "cell_type": "markdown",
   "metadata": {},
   "source": [
    "Xgboost can be used to predict probability, it gives slightly different result."
   ]
  },
  {
   "cell_type": "markdown",
   "metadata": {},
   "source": [
    "### Make LB prediction"
   ]
  },
  {
   "cell_type": "markdown",
   "metadata": {},
   "source": [
    "The same steps as in validation. All data is used for training"
   ]
  },
  {
   "cell_type": "code",
   "execution_count": 9,
   "metadata": {
    "collapsed": false
   },
   "outputs": [
    {
     "name": "stderr",
     "output_type": "stream",
     "text": [
      "c:\\anaconda3\\lib\\site-packages\\lifetimes\\estimation.py:557: RuntimeWarning: invalid value encountered in log\n",
      "  A_4 = log(a) - log(b + freq - 1) - (r + freq) * log(rec + alpha)\n"
     ]
    },
    {
     "name": "stdout",
     "output_type": "stream",
     "text": [
      "Done  10\n",
      "Done  20\n",
      "Done  30\n",
      "Done  40\n",
      "Done  50\n",
      "Done  60\n",
      "Done  70\n",
      "Done  80\n",
      "Done  90\n",
      "Done  100\n",
      "Done  110\n",
      "Done  120\n",
      "Done  130\n",
      "Done  140\n",
      "Done  150\n",
      "Done  160\n",
      "Done  170\n",
      "Done  180\n",
      "Correct number of rows\n"
     ]
    }
   ],
   "source": [
    "error = 0\n",
    "final = pd.DataFrame()\n",
    "cnt = 0 # Watching progress. tqdm can also be used\n",
    "for mcc in monthly_data.mcc_code.unique():\n",
    "    cnt+=1\n",
    "    temp = lf.utils.summary_data_from_transaction_data(monthly_data[monthly_data.mcc_code==mcc], \n",
    "                                                customer_id_col = 'customer_id',\n",
    "                                                datetime_col = 'date',\n",
    "                                                observation_period_end = datetime(2015, 10, 31),\n",
    "                                                freq = 'm')\n",
    "    old_amount = monthly_data[monthly_data.mcc_code==mcc].sort_values('date').groupby('customer_id').amount.mean().to_frame()\n",
    "    bgf = BetaGeoFitter(penalizer_coef=0.0)\n",
    "    bgf.fit(temp['frequency'], temp['recency'], temp['T'])\n",
    "    res = old_amount.merge(bgf.predict(1, temp['frequency'], temp['recency'], temp['T']).to_frame().rename(columns={0:'prob'}),\n",
    "                           left_index=True, right_index=True, how='outer')\n",
    "    res.reset_index(inplace=True)\n",
    "    res['TR'] = (res['customer_id'].map(temp['T'] - temp['recency'])).fillna(0)\n",
    "    res['age'] = res['customer_id'].map(temp['T']).fillna(0)\n",
    "\n",
    "    res['mult'] = 1\n",
    "    res.loc[(res['age']-res['TR'])==0, 'mult'] = 0.6\n",
    "    res.loc[(res['age']-res['TR'])==1, 'mult'] = 0.76666\n",
    "    \n",
    "    # Get log, multiply by probability and then back to nominal value\n",
    "    res['volume'] = np.exp(np.log(-res['amount']+1)*res['prob']*res['mult'])-1\n",
    "\n",
    "    res.set_index('customer_id', inplace=True)\n",
    "    # Add zeros for those who didn't ever spend anything\n",
    "    res = res.loc[test_ids].fillna(0)\n",
    "    res.reset_index(inplace=True)\n",
    "    res['mcc_code'] = mcc\n",
    "    del res['prob']\n",
    "    del res['amount']\n",
    "    \n",
    "    if cnt%10 == 0:\n",
    "        print('Done ', cnt)\n",
    "    final = final.append(res, ignore_index=True)\n",
    "    \n",
    "if final.shape[0] == 3000*184:\n",
    "    print('Correct number of rows')\n",
    "    final[['customer_id', 'mcc_code', 'volume']].to_csv('submit_3.csv', index=False)\n",
    "else:\n",
    "    print('Smth went wrong, you have {0} rows'.format(final.shape[0]))"
   ]
  }
 ],
 "metadata": {
  "anaconda-cloud": {},
  "kernelspec": {
   "display_name": "Python 3",
   "language": "python",
   "name": "python3"
  },
  "language_info": {
   "codemirror_mode": {
    "name": "ipython",
    "version": 3
   },
   "file_extension": ".py",
   "mimetype": "text/x-python",
   "name": "python",
   "nbconvert_exporter": "python",
   "pygments_lexer": "ipython3",
   "version": "3.5.1"
  }
 },
 "nbformat": 4,
 "nbformat_minor": 0
}
